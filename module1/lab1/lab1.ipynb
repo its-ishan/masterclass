{
 "cells": [
  {
   "cell_type": "markdown",
   "id": "460f9789-3599-41f2-b6f5-9193c67a307b",
   "metadata": {},
   "source": [
    "#### LOAD BASIC PACKAGES"
   ]
  },
  {
   "cell_type": "code",
   "execution_count": 1,
   "id": "b476a1da-839e-44f9-8be0-e7dacac9a887",
   "metadata": {},
   "outputs": [],
   "source": [
    "import pandas as pd\n",
    "import numpy as np\n",
    "import matplotlib.pyplot as plt\n",
    "import seaborn as sns"
   ]
  },
  {
   "cell_type": "markdown",
   "id": "0ce8473d-1b44-48f5-be27-05868c12de99",
   "metadata": {},
   "source": [
    "#### LOAD DATASET"
   ]
  },
  {
   "cell_type": "code",
   "execution_count": 2,
   "id": "2afc9fd7-b83a-47ed-bb35-1c97e6af33de",
   "metadata": {},
   "outputs": [],
   "source": [
    "df = pd.read_csv(\"data/weather.csv\")"
   ]
  },
  {
   "cell_type": "markdown",
   "id": "48487d8e-eba3-4522-9826-eab243afa74a",
   "metadata": {},
   "source": [
    "#### DISPLAY BASIC DETAILS OF DATA"
   ]
  },
  {
   "cell_type": "code",
   "execution_count": 3,
   "id": "45a3052f-7eb6-4379-b121-7bbcfc5fea25",
   "metadata": {},
   "outputs": [
    {
     "data": {
      "text/html": [
       "<div>\n",
       "<style scoped>\n",
       "    .dataframe tbody tr th:only-of-type {\n",
       "        vertical-align: middle;\n",
       "    }\n",
       "\n",
       "    .dataframe tbody tr th {\n",
       "        vertical-align: top;\n",
       "    }\n",
       "\n",
       "    .dataframe thead th {\n",
       "        text-align: right;\n",
       "    }\n",
       "</style>\n",
       "<table border=\"1\" class=\"dataframe\">\n",
       "  <thead>\n",
       "    <tr style=\"text-align: right;\">\n",
       "      <th></th>\n",
       "      <th>region</th>\n",
       "      <th>temperature</th>\n",
       "      <th>humidity</th>\n",
       "      <th>rainfall</th>\n",
       "      <th>wind_speed</th>\n",
       "      <th>date</th>\n",
       "    </tr>\n",
       "  </thead>\n",
       "  <tbody>\n",
       "    <tr>\n",
       "      <th>0</th>\n",
       "      <td>East</td>\n",
       "      <td>28.692333</td>\n",
       "      <td>80.861110</td>\n",
       "      <td>6.266069</td>\n",
       "      <td>8.342010</td>\n",
       "      <td>2023-01-01</td>\n",
       "    </tr>\n",
       "    <tr>\n",
       "      <th>1</th>\n",
       "      <td>West</td>\n",
       "      <td>25.856841</td>\n",
       "      <td>67.760041</td>\n",
       "      <td>7.822946</td>\n",
       "      <td>8.879638</td>\n",
       "      <td>2023-01-02</td>\n",
       "    </tr>\n",
       "    <tr>\n",
       "      <th>2</th>\n",
       "      <td>North</td>\n",
       "      <td>24.421759</td>\n",
       "      <td>66.482529</td>\n",
       "      <td>3.376307</td>\n",
       "      <td>11.494587</td>\n",
       "      <td>2023-01-03</td>\n",
       "    </tr>\n",
       "    <tr>\n",
       "      <th>3</th>\n",
       "      <td>East</td>\n",
       "      <td>23.494482</td>\n",
       "      <td>52.092615</td>\n",
       "      <td>8.936325</td>\n",
       "      <td>11.220741</td>\n",
       "      <td>2023-01-04</td>\n",
       "    </tr>\n",
       "    <tr>\n",
       "      <th>4</th>\n",
       "      <td>East</td>\n",
       "      <td>17.607390</td>\n",
       "      <td>44.655138</td>\n",
       "      <td>0.309751</td>\n",
       "      <td>9.958197</td>\n",
       "      <td>2023-01-05</td>\n",
       "    </tr>\n",
       "  </tbody>\n",
       "</table>\n",
       "</div>"
      ],
      "text/plain": [
       "  region  temperature   humidity  rainfall  wind_speed        date\n",
       "0   East    28.692333  80.861110  6.266069    8.342010  2023-01-01\n",
       "1   West    25.856841  67.760041  7.822946    8.879638  2023-01-02\n",
       "2  North    24.421759  66.482529  3.376307   11.494587  2023-01-03\n",
       "3   East    23.494482  52.092615  8.936325   11.220741  2023-01-04\n",
       "4   East    17.607390  44.655138  0.309751    9.958197  2023-01-05"
      ]
     },
     "execution_count": 3,
     "metadata": {},
     "output_type": "execute_result"
    }
   ],
   "source": [
    "df.head()"
   ]
  },
  {
   "cell_type": "markdown",
   "id": "c0f2edfb-8b09-42a7-9a97-1242f1c939e9",
   "metadata": {},
   "source": [
    "#### SUMMARY STATISTICS"
   ]
  },
  {
   "cell_type": "code",
   "execution_count": 4,
   "id": "1f95483b-223a-4b09-8051-8f9bee26a7fd",
   "metadata": {},
   "outputs": [
    {
     "name": "stdout",
     "output_type": "stream",
     "text": [
      "<class 'pandas.core.frame.DataFrame'>\n",
      "RangeIndex: 100 entries, 0 to 99\n",
      "Data columns (total 6 columns):\n",
      " #   Column       Non-Null Count  Dtype  \n",
      "---  ------       --------------  -----  \n",
      " 0   region       100 non-null    object \n",
      " 1   temperature  100 non-null    float64\n",
      " 2   humidity     100 non-null    float64\n",
      " 3   rainfall     100 non-null    float64\n",
      " 4   wind_speed   100 non-null    float64\n",
      " 5   date         100 non-null    object \n",
      "dtypes: float64(4), object(2)\n",
      "memory usage: 4.8+ KB\n"
     ]
    },
    {
     "data": {
      "text/plain": [
       "(24.849073278503298, 8.142942421229364)"
      ]
     },
     "execution_count": 4,
     "metadata": {},
     "output_type": "execute_result"
    }
   ],
   "source": [
    "# Basic statistics\n",
    "df.describe()\n",
    "df.info()\n",
    "df['temperature'].mean(), df['rainfall'].std()"
   ]
  },
  {
   "cell_type": "markdown",
   "id": "7e723137-9131-4407-b734-9df477b40764",
   "metadata": {},
   "source": [
    "### ✅ Task1:\n",
    "#### Compute mean and variance of any two other columns."
   ]
  },
  {
   "cell_type": "code",
   "execution_count": null,
   "id": "048c86e8-6cf7-4f28-a510-af45a8584bfc",
   "metadata": {},
   "outputs": [],
   "source": []
  }
 ],
 "metadata": {
  "kernelspec": {
   "display_name": "Python 3 (ipykernel)",
   "language": "python",
   "name": "python3"
  },
  "language_info": {
   "codemirror_mode": {
    "name": "ipython",
    "version": 3
   },
   "file_extension": ".py",
   "mimetype": "text/x-python",
   "name": "python",
   "nbconvert_exporter": "python",
   "pygments_lexer": "ipython3",
   "version": "3.12.9"
  }
 },
 "nbformat": 4,
 "nbformat_minor": 5
}
